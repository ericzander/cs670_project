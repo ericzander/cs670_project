{
 "cells": [
  {
   "cell_type": "code",
   "execution_count": 1,
   "metadata": {},
   "outputs": [],
   "source": [
    "import numpy as np\n",
    "import pandas as pd"
   ]
  },
  {
   "cell_type": "code",
   "execution_count": 2,
   "metadata": {},
   "outputs": [],
   "source": [
    "data_dir = \"../data/oct24_clean/\"\n",
    "\n",
    "games = pd.read_csv(data_dir + \"games.csv\")\n",
    "# genres = pd.read_csv(data_dir + \"genres_translated.csv\")\n",
    "# spy = pd.read_csv(data_dir + \"steamspy_insights.csv\") \n",
    "# prom = pd.read_csv(data_dir + \"promotional.csv\")\n",
    "tags = pd.read_csv(data_dir + \"tags.csv\")"
   ]
  },
  {
   "cell_type": "code",
   "execution_count": 4,
   "metadata": {},
   "outputs": [
    {
     "data": {
      "text/plain": [
       "tag\n",
       "Singleplayer     72120\n",
       "Indie            63253\n",
       "Action           51883\n",
       "Adventure        49928\n",
       "Casual           49570\n",
       "                 ...  \n",
       "Rugby               20\n",
       "Feature Film        17\n",
       "Steam Machine       17\n",
       "Snooker             16\n",
       "Reboot              15\n",
       "Name: count, Length: 447, dtype: int64"
      ]
     },
     "execution_count": 4,
     "metadata": {},
     "output_type": "execute_result"
    }
   ],
   "source": [
    "tags.tag.value_counts()"
   ]
  }
 ],
 "metadata": {
  "kernelspec": {
   "display_name": "venv",
   "language": "python",
   "name": "python3"
  },
  "language_info": {
   "codemirror_mode": {
    "name": "ipython",
    "version": 3
   },
   "file_extension": ".py",
   "mimetype": "text/x-python",
   "name": "python",
   "nbconvert_exporter": "python",
   "pygments_lexer": "ipython3",
   "version": "3.13.0"
  }
 },
 "nbformat": 4,
 "nbformat_minor": 2
}
